{
  "nbformat": 4,
  "nbformat_minor": 0,
  "metadata": {
    "colab": {
      "name": "Stack.ipynb",
      "provenance": [],
      "authorship_tag": "ABX9TyNfKj5IsyX9eRjZmKQSSedO",
      "include_colab_link": true
    },
    "kernelspec": {
      "name": "python2",
      "display_name": "Python 2"
    },
    "accelerator": "GPU"
  },
  "cells": [
    {
      "cell_type": "markdown",
      "metadata": {
        "id": "view-in-github",
        "colab_type": "text"
      },
      "source": [
        "<a href=\"https://colab.research.google.com/github/amaljoseph/Python-DSA-from-scratch/blob/master/Data%20Structures/Stack/Stack.ipynb\" target=\"_parent\"><img src=\"https://colab.research.google.com/assets/colab-badge.svg\" alt=\"Open In Colab\"/></a>"
      ]
    },
    {
      "cell_type": "code",
      "metadata": {
        "id": "waKfe1whsln-",
        "colab_type": "code",
        "colab": {}
      },
      "source": [
        "class Stack:\n",
        "\n",
        "  def __init__(self):\n",
        "    self.stack = []\n",
        "  \n",
        "  def push(self, data):\n",
        "    self.stack.append(data)\n",
        "  \n",
        "  def pop(self):\n",
        "    return stack.pop() if stack else None\n",
        "  \n",
        "  def peek(self):\n",
        "    return self.stack[-1] if stack else None\n",
        "\n",
        "  def isEmpty(self):\n",
        "    return False if stack else True\n",
        "\n",
        "\n",
        "st = Stack()\n",
        "st.push(1)\n",
        "st.push(2)\n",
        "print(st.peek())\n",
        "st.push(3)\n",
        "print(st.peek())"
      ],
      "execution_count": 0,
      "outputs": []
    }
  ]
}