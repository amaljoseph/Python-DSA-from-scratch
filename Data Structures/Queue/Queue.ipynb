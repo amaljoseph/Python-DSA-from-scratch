{
  "nbformat": 4,
  "nbformat_minor": 0,
  "metadata": {
    "colab": {
      "name": "Queue.ipynb",
      "provenance": [],
      "authorship_tag": "ABX9TyPbmlbAUJE599xnEKR4nkGy",
      "include_colab_link": true
    },
    "kernelspec": {
      "name": "python2",
      "display_name": "Python 2"
    },
    "accelerator": "GPU"
  },
  "cells": [
    {
      "cell_type": "markdown",
      "metadata": {
        "id": "view-in-github",
        "colab_type": "text"
      },
      "source": [
        "<a href=\"https://colab.research.google.com/github/amaljoseph/Python-DSA-from-scratch/blob/master/Data%20Structures/Queue/Queue.ipynb\" target=\"_parent\"><img src=\"https://colab.research.google.com/assets/colab-badge.svg\" alt=\"Open In Colab\"/></a>"
      ]
    },
    {
      "cell_type": "code",
      "metadata": {
        "id": "waKfe1whsln-",
        "colab_type": "code",
        "colab": {}
      },
      "source": [
        "class Queue:\n",
        "\n",
        "  def __init__(self):\n",
        "    self.queue = []\n",
        "\n",
        "  def enqueue(self, data):\n",
        "    self.queue.append(data)\n",
        "  \n",
        "  def dequeue(self):\n",
        "    return self.queue.pop(0) if self.queue else None\n",
        "  \n",
        "  def front(self):\n",
        "    return self.queue[0]\n",
        "  \n",
        "  def isEmpty(self):\n",
        "    return len(self.queue)\n",
        "\n",
        "q = Queue()\n",
        "q.enqueue(1)\n",
        "q.enqueue(2)\n",
        "print(q.front())\n",
        "print(q.dequeue())\n",
        "print(q.dequeue())\n",
        "print(q.dequeue())\n",
        "print(q.dequeue())\n",
        "print(q.isEmpty())"
      ],
      "execution_count": 0,
      "outputs": []
    }
  ]
}