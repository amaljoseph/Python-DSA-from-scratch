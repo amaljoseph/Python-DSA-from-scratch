{
  "nbformat": 4,
  "nbformat_minor": 0,
  "metadata": {
    "colab": {
      "name": "Dequeue.ipynb",
      "provenance": [],
      "authorship_tag": "ABX9TyNzERZEQ5br55jl9gcg9n5B",
      "include_colab_link": true
    },
    "kernelspec": {
      "name": "python2",
      "display_name": "Python 2"
    },
    "accelerator": "GPU"
  },
  "cells": [
    {
      "cell_type": "markdown",
      "metadata": {
        "id": "view-in-github",
        "colab_type": "text"
      },
      "source": [
        "<a href=\"https://colab.research.google.com/github/amaljoseph/Python-DSA-from-scratch/blob/master/Data%20Structures/Queue/Dequeue.ipynb\" target=\"_parent\"><img src=\"https://colab.research.google.com/assets/colab-badge.svg\" alt=\"Open In Colab\"/></a>"
      ]
    },
    {
      "cell_type": "code",
      "metadata": {
        "id": "waKfe1whsln-",
        "colab_type": "code",
        "colab": {}
      },
      "source": [
        "class Dequeue:\n",
        "\n",
        "  def __init__(self):\n",
        "    self.dequeue = []\n",
        "\n",
        "  def addAtFront(self, data):\n",
        "    self.dequeue.insert(0, data)\n",
        "\n",
        "  def addAtRear(self, data):\n",
        "    self.dequeue.append(data)\n",
        "  \n",
        "  def deleteAtFront(self):\n",
        "    return self.dequeue.pop(0) if self.dequeue else None\n",
        "  \n",
        "  def deleteAtRear(self):\n",
        "    return self.dequeue.pop() if self.dequeue else None\n",
        "  \n",
        "  def peekFront(self):\n",
        "    return self.dequeue[0]\n",
        "\n",
        "  def peekRear(self):\n",
        "    return self.dequeue[-1]\n",
        "  \n",
        "\n",
        "dq = Dequeue()\n",
        "dq.addAtFront(2)\n",
        "dq.addAtFront(1)\n",
        "dq.addAtRear(3)\n",
        "print(dq.peekFront())\n",
        "print(dq.peekRear())\n",
        "print(dq.deleteAtFront())\n",
        "print(dq.deleteAtRear())"
      ],
      "execution_count": 0,
      "outputs": []
    },
    {
      "cell_type": "code",
      "metadata": {
        "id": "4CRxIS8S06RB",
        "colab_type": "code",
        "colab": {}
      },
      "source": [
        "\n"
      ],
      "execution_count": 0,
      "outputs": []
    }
  ]
}