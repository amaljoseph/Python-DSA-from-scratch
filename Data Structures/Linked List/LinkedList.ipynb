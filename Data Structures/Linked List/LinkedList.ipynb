{
  "nbformat": 4,
  "nbformat_minor": 0,
  "metadata": {
    "colab": {
      "name": "LinkedList",
      "provenance": [],
      "authorship_tag": "ABX9TyPk+OzwLtTLhZ85AxX3rgM8",
      "include_colab_link": true
    },
    "kernelspec": {
      "name": "python3",
      "display_name": "Python 3"
    }
  },
  "cells": [
    {
      "cell_type": "markdown",
      "metadata": {
        "id": "view-in-github",
        "colab_type": "text"
      },
      "source": [
        "<a href=\"https://colab.research.google.com/github/amaljoseph/Python-DSA-from-scratch/blob/master/Data%20Structures/Linked%20List/LinkedList.ipynb\" target=\"_parent\"><img src=\"https://colab.research.google.com/assets/colab-badge.svg\" alt=\"Open In Colab\"/></a>"
      ]
    },
    {
      "cell_type": "code",
      "metadata": {
        "id": "inifBCSdzsMC",
        "colab_type": "code",
        "colab": {
          "base_uri": "https://localhost:8080/",
          "height": 201
        },
        "outputId": "0f1366b4-be3d-4f61-b945-c325bdcfc894"
      },
      "source": [
        "class Node:\n",
        "    def __init__(self, data):\n",
        "        self.data = data\n",
        "        self.next = None\n",
        "\n",
        "\n",
        "class LinkedList:\n",
        "\n",
        "    def __init__(self):\n",
        "        self.head = None\n",
        "\n",
        "    def insert(self, data):\n",
        "        new_node = Node(data)\n",
        "        new_node.next = None\n",
        "        node = self.head\n",
        "        \n",
        "        if node == None:\n",
        "            self.head = new_node\n",
        "        else:\n",
        "            while node.next != None:\n",
        "                node = node.next\n",
        "            node.next = new_node\n",
        "\n",
        "    def insertAt(self, index, data):\n",
        "        new_node = Node(data)\n",
        "        node = self.head\n",
        "\n",
        "        position = 1\n",
        "        if index == 1:\n",
        "            new_node.next = self.head\n",
        "            self.head = new_node\n",
        "        else:\n",
        "            while node.next and position<index:\n",
        "                node = node.next\n",
        "            new_node.next = node.next\n",
        "            node.next = new_node\n",
        "\n",
        "    def insertAfter(self, val, data):\n",
        "        new_node = Node(data)\n",
        "        node = self.head\n",
        "\n",
        "        while node.next and node.data != val:\n",
        "            node = node.next\n",
        "        new_node.next = node.next\n",
        "        node.next = new_node\n",
        "\n",
        "    def delete(self, data):\n",
        "        node = self.head\n",
        "        previous = None\n",
        "        while node.data != data and node.next:\n",
        "            previous = node\n",
        "            node = node.next\n",
        "        if node.data == data:\n",
        "            print(\"Deleted {}\".format(node.data))\n",
        "            previous.next = node.next\n",
        "        else:\n",
        "            print(\"{} not found\".format(data))\n",
        "    \n",
        "    def deleteAt(self, index):\n",
        "        node = self.head\n",
        "        position = 1\n",
        "\n",
        "        if index == 1:\n",
        "            self.head = node.next\n",
        "\n",
        "        else:\n",
        "            while node.next and position<index:\n",
        "                node = node.next\n",
        "            node.next = node.next.next\n",
        "\n",
        "            \n",
        "\n",
        "    def showlist(self):\n",
        "        node = self.head\n",
        "        while node.next:\n",
        "            print(node.data)\n",
        "            node = node.next\n",
        "        print(node.data)\n",
        "\n",
        "list = LinkedList()\n",
        "list.insert(1)\n",
        "list.insert(2)\n",
        "list.insert(3)\n",
        "list.insertAt(1, 100)\n",
        "list.insertAfter(1, 200)\n",
        "list.deleteAt(1)\n",
        "list.showlist()\n",
        "list.delete(200)\n",
        "list.showlist()"
      ],
      "execution_count": 37,
      "outputs": [
        {
          "output_type": "stream",
          "text": [
            "Before:\n",
            "1\n",
            "200\n",
            "2\n",
            "3\n",
            "Deleted 200\n",
            "After:\n",
            "1\n",
            "2\n",
            "3\n"
          ],
          "name": "stdout"
        }
      ]
    },
    {
      "cell_type": "code",
      "metadata": {
        "id": "c9XDSBPOz3lK",
        "colab_type": "code",
        "colab": {}
      },
      "source": [
        ""
      ],
      "execution_count": 0,
      "outputs": []
    }
  ]
}